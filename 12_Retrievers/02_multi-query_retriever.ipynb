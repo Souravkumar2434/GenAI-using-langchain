{
 "cells": [
  {
   "cell_type": "code",
   "execution_count": 2,
   "id": "ab92ba75",
   "metadata": {},
   "outputs": [
    {
     "name": "stdout",
     "output_type": "stream",
     "text": [
      "Collecting langchain-community\n",
      "  Using cached langchain_community-0.3.24-py3-none-any.whl (2.5 MB)\n",
      "Collecting aiohttp<4.0.0,>=3.8.3\n",
      "  Using cached aiohttp-3.11.18-cp310-cp310-win_amd64.whl (442 kB)\n",
      "Collecting httpx-sse<1.0.0,>=0.4.0\n",
      "  Using cached httpx_sse-0.4.0-py3-none-any.whl (7.8 kB)\n",
      "Requirement already satisfied: langchain-core<1.0.0,>=0.3.59 in c:\\users\\sourav chaudhary\\appdata\\local\\programs\\python\\python310\\lib\\site-packages (from langchain-community) (0.3.59)\n",
      "Requirement already satisfied: PyYAML>=5.3 in c:\\users\\sourav chaudhary\\appdata\\local\\programs\\python\\python310\\lib\\site-packages (from langchain-community) (6.0.2)\n",
      "Collecting pydantic-settings<3.0.0,>=2.4.0\n",
      "  Using cached pydantic_settings-2.9.1-py3-none-any.whl (44 kB)\n",
      "Requirement already satisfied: langsmith<0.4,>=0.1.125 in c:\\users\\sourav chaudhary\\appdata\\local\\programs\\python\\python310\\lib\\site-packages (from langchain-community) (0.3.42)\n",
      "Requirement already satisfied: langchain<1.0.0,>=0.3.25 in c:\\users\\sourav chaudhary\\appdata\\local\\programs\\python\\python310\\lib\\site-packages (from langchain-community) (0.3.25)\n",
      "Requirement already satisfied: requests<3,>=2 in c:\\users\\sourav chaudhary\\appdata\\local\\programs\\python\\python310\\lib\\site-packages (from langchain-community) (2.32.3)\n",
      "Requirement already satisfied: SQLAlchemy<3,>=1.4 in c:\\users\\sourav chaudhary\\appdata\\local\\programs\\python\\python310\\lib\\site-packages (from langchain-community) (2.0.40)\n",
      "Collecting dataclasses-json<0.7,>=0.5.7\n",
      "  Using cached dataclasses_json-0.6.7-py3-none-any.whl (28 kB)\n",
      "Requirement already satisfied: numpy>=1.26.2 in c:\\users\\sourav chaudhary\\appdata\\local\\programs\\python\\python310\\lib\\site-packages (from langchain-community) (2.2.5)\n",
      "Requirement already satisfied: tenacity!=8.4.0,<10,>=8.1.0 in c:\\users\\sourav chaudhary\\appdata\\local\\programs\\python\\python310\\lib\\site-packages (from langchain-community) (9.1.2)\n",
      "Collecting aiosignal>=1.1.2\n",
      "  Using cached aiosignal-1.3.2-py2.py3-none-any.whl (7.6 kB)\n",
      "Collecting attrs>=17.3.0\n",
      "  Using cached attrs-25.3.0-py3-none-any.whl (63 kB)\n",
      "Collecting propcache>=0.2.0\n",
      "  Using cached propcache-0.3.1-cp310-cp310-win_amd64.whl (45 kB)\n",
      "Collecting aiohappyeyeballs>=2.3.0\n",
      "  Using cached aiohappyeyeballs-2.6.1-py3-none-any.whl (15 kB)\n",
      "Collecting multidict<7.0,>=4.5\n",
      "  Using cached multidict-6.4.3-cp310-cp310-win_amd64.whl (38 kB)\n",
      "Requirement already satisfied: async-timeout<6.0,>=4.0 in c:\\users\\sourav chaudhary\\appdata\\local\\programs\\python\\python310\\lib\\site-packages (from aiohttp<4.0.0,>=3.8.3->langchain-community) (4.0.3)\n",
      "Collecting yarl<2.0,>=1.17.0\n",
      "  Using cached yarl-1.20.0-cp310-cp310-win_amd64.whl (92 kB)\n",
      "Collecting frozenlist>=1.1.1\n",
      "  Using cached frozenlist-1.6.0-cp310-cp310-win_amd64.whl (120 kB)\n",
      "Collecting marshmallow<4.0.0,>=3.18.0\n",
      "  Using cached marshmallow-3.26.1-py3-none-any.whl (50 kB)\n",
      "Collecting typing-inspect<1,>=0.4.0\n",
      "  Using cached typing_inspect-0.9.0-py3-none-any.whl (8.8 kB)\n",
      "Requirement already satisfied: pydantic<3.0.0,>=2.7.4 in c:\\users\\sourav chaudhary\\appdata\\local\\programs\\python\\python310\\lib\\site-packages (from langchain<1.0.0,>=0.3.25->langchain-community) (2.11.4)\n",
      "Requirement already satisfied: langchain-text-splitters<1.0.0,>=0.3.8 in c:\\users\\sourav chaudhary\\appdata\\local\\programs\\python\\python310\\lib\\site-packages (from langchain<1.0.0,>=0.3.25->langchain-community) (0.3.8)\n",
      "Requirement already satisfied: typing-extensions>=4.7 in c:\\users\\sourav chaudhary\\appdata\\local\\programs\\python\\python310\\lib\\site-packages (from langchain-core<1.0.0,>=0.3.59->langchain-community) (4.13.2)\n",
      "Requirement already satisfied: jsonpatch<2.0,>=1.33 in c:\\users\\sourav chaudhary\\appdata\\local\\programs\\python\\python310\\lib\\site-packages (from langchain-core<1.0.0,>=0.3.59->langchain-community) (1.33)\n",
      "Requirement already satisfied: packaging<25,>=23.2 in c:\\users\\sourav chaudhary\\appdata\\local\\programs\\python\\python310\\lib\\site-packages (from langchain-core<1.0.0,>=0.3.59->langchain-community) (24.2)\n",
      "Requirement already satisfied: requests-toolbelt<2.0.0,>=1.0.0 in c:\\users\\sourav chaudhary\\appdata\\local\\programs\\python\\python310\\lib\\site-packages (from langsmith<0.4,>=0.1.125->langchain-community) (1.0.0)\n",
      "Requirement already satisfied: httpx<1,>=0.23.0 in c:\\users\\sourav chaudhary\\appdata\\local\\programs\\python\\python310\\lib\\site-packages (from langsmith<0.4,>=0.1.125->langchain-community) (0.28.1)\n",
      "Requirement already satisfied: orjson<4.0.0,>=3.9.14 in c:\\users\\sourav chaudhary\\appdata\\local\\programs\\python\\python310\\lib\\site-packages (from langsmith<0.4,>=0.1.125->langchain-community) (3.10.18)\n",
      "Requirement already satisfied: zstandard<0.24.0,>=0.23.0 in c:\\users\\sourav chaudhary\\appdata\\local\\programs\\python\\python310\\lib\\site-packages (from langsmith<0.4,>=0.1.125->langchain-community) (0.23.0)\n",
      "Requirement already satisfied: python-dotenv>=0.21.0 in c:\\users\\sourav chaudhary\\appdata\\local\\programs\\python\\python310\\lib\\site-packages (from pydantic-settings<3.0.0,>=2.4.0->langchain-community) (1.1.0)\n",
      "Requirement already satisfied: typing-inspection>=0.4.0 in c:\\users\\sourav chaudhary\\appdata\\local\\programs\\python\\python310\\lib\\site-packages (from pydantic-settings<3.0.0,>=2.4.0->langchain-community) (0.4.0)\n",
      "Requirement already satisfied: certifi>=2017.4.17 in c:\\users\\sourav chaudhary\\appdata\\local\\programs\\python\\python310\\lib\\site-packages (from requests<3,>=2->langchain-community) (2025.4.26)\n",
      "Requirement already satisfied: idna<4,>=2.5 in c:\\users\\sourav chaudhary\\appdata\\local\\programs\\python\\python310\\lib\\site-packages (from requests<3,>=2->langchain-community) (3.10)\n",
      "Requirement already satisfied: urllib3<3,>=1.21.1 in c:\\users\\sourav chaudhary\\appdata\\local\\programs\\python\\python310\\lib\\site-packages (from requests<3,>=2->langchain-community) (2.4.0)\n",
      "Requirement already satisfied: charset-normalizer<4,>=2 in c:\\users\\sourav chaudhary\\appdata\\local\\programs\\python\\python310\\lib\\site-packages (from requests<3,>=2->langchain-community) (3.4.2)\n",
      "Requirement already satisfied: greenlet>=1 in c:\\users\\sourav chaudhary\\appdata\\local\\programs\\python\\python310\\lib\\site-packages (from SQLAlchemy<3,>=1.4->langchain-community) (3.2.2)\n",
      "Requirement already satisfied: httpcore==1.* in c:\\users\\sourav chaudhary\\appdata\\local\\programs\\python\\python310\\lib\\site-packages (from httpx<1,>=0.23.0->langsmith<0.4,>=0.1.125->langchain-community) (1.0.9)\n",
      "Requirement already satisfied: anyio in c:\\users\\sourav chaudhary\\appdata\\local\\programs\\python\\python310\\lib\\site-packages (from httpx<1,>=0.23.0->langsmith<0.4,>=0.1.125->langchain-community) (4.9.0)\n",
      "Requirement already satisfied: h11>=0.16 in c:\\users\\sourav chaudhary\\appdata\\local\\programs\\python\\python310\\lib\\site-packages (from httpcore==1.*->httpx<1,>=0.23.0->langsmith<0.4,>=0.1.125->langchain-community) (0.16.0)\n",
      "Requirement already satisfied: jsonpointer>=1.9 in c:\\users\\sourav chaudhary\\appdata\\local\\programs\\python\\python310\\lib\\site-packages (from jsonpatch<2.0,>=1.33->langchain-core<1.0.0,>=0.3.59->langchain-community) (3.0.0)\n",
      "Requirement already satisfied: annotated-types>=0.6.0 in c:\\users\\sourav chaudhary\\appdata\\local\\programs\\python\\python310\\lib\\site-packages (from pydantic<3.0.0,>=2.7.4->langchain<1.0.0,>=0.3.25->langchain-community) (0.7.0)\n",
      "Requirement already satisfied: pydantic-core==2.33.2 in c:\\users\\sourav chaudhary\\appdata\\local\\programs\\python\\python310\\lib\\site-packages (from pydantic<3.0.0,>=2.7.4->langchain<1.0.0,>=0.3.25->langchain-community) (2.33.2)\n",
      "Collecting mypy-extensions>=0.3.0\n",
      "  Using cached mypy_extensions-1.1.0-py3-none-any.whl (5.0 kB)\n",
      "Requirement already satisfied: exceptiongroup>=1.0.2 in c:\\users\\sourav chaudhary\\appdata\\local\\programs\\python\\python310\\lib\\site-packages (from anyio->httpx<1,>=0.23.0->langsmith<0.4,>=0.1.125->langchain-community) (1.3.0)\n",
      "Requirement already satisfied: sniffio>=1.1 in c:\\users\\sourav chaudhary\\appdata\\local\\programs\\python\\python310\\lib\\site-packages (from anyio->httpx<1,>=0.23.0->langsmith<0.4,>=0.1.125->langchain-community) (1.3.1)\n",
      "Installing collected packages: propcache, mypy-extensions, multidict, marshmallow, httpx-sse, frozenlist, attrs, aiohappyeyeballs, yarl, typing-inspect, aiosignal, pydantic-settings, dataclasses-json, aiohttp, langchain-community\n",
      "Successfully installed aiohappyeyeballs-2.6.1 aiohttp-3.11.18 aiosignal-1.3.2 attrs-25.3.0 dataclasses-json-0.6.7 frozenlist-1.6.0 httpx-sse-0.4.0 langchain-community-0.3.24 marshmallow-3.26.1 multidict-6.4.3 mypy-extensions-1.1.0 propcache-0.3.1 pydantic-settings-2.9.1 typing-inspect-0.9.0 yarl-1.20.0\n"
     ]
    },
    {
     "name": "stderr",
     "output_type": "stream",
     "text": [
      "\n",
      "[notice] A new release of pip is available: 23.0.1 -> 25.1.1\n",
      "[notice] To update, run: python.exe -m pip install --upgrade pip\n"
     ]
    }
   ],
   "source": [
    "!pip install langchain-community"
   ]
  },
  {
   "cell_type": "code",
   "execution_count": 3,
   "id": "2f5bdbc7",
   "metadata": {},
   "outputs": [],
   "source": [
    "from langchain_openai import ChatOpenAI\n",
    "from langchain_openai.embeddings import OpenAIEmbeddings\n",
    "from langchain.vectorstores import FAISS\n",
    "from langchain.retrievers.multi_query import MultiQueryRetriever\n",
    "from dotenv import load_dotenv\n",
    "from langchain.schema import Document"
   ]
  },
  {
   "cell_type": "code",
   "execution_count": 7,
   "id": "56070595",
   "metadata": {},
   "outputs": [
    {
     "data": {
      "text/plain": [
       "True"
      ]
     },
     "execution_count": 7,
     "metadata": {},
     "output_type": "execute_result"
    }
   ],
   "source": [
    "load_dotenv()"
   ]
  },
  {
   "cell_type": "code",
   "execution_count": 8,
   "id": "1e8f583e",
   "metadata": {},
   "outputs": [],
   "source": [
    "# Relevant health & wellness documents\n",
    "all_docs = [\n",
    "    Document(page_content=\"Regular walking boosts heart health and can reduce symptoms of depression.\", metadata={\"source\": \"H1\"}),\n",
    "    Document(page_content=\"Consuming leafy greens and fruits helps detox the body and improve longevity.\", metadata={\"source\": \"H2\"}),\n",
    "    Document(page_content=\"Deep sleep is crucial for cellular repair and emotional regulation.\", metadata={\"source\": \"H3\"}),\n",
    "    Document(page_content=\"Mindfulness and controlled breathing lower cortisol and improve mental clarity.\", metadata={\"source\": \"H4\"}),\n",
    "    Document(page_content=\"Drinking sufficient water throughout the day helps maintain metabolism and energy.\", metadata={\"source\": \"H5\"}),\n",
    "    Document(page_content=\"The solar energy system in modern homes helps balance electricity demand.\", metadata={\"source\": \"I1\"}),\n",
    "    Document(page_content=\"Python balances readability with power, making it a popular system design language.\", metadata={\"source\": \"I2\"}),\n",
    "    Document(page_content=\"Photosynthesis enables plants to produce energy by converting sunlight.\", metadata={\"source\": \"I3\"}),\n",
    "    Document(page_content=\"The 2022 FIFA World Cup was held in Qatar and drew global energy and excitement.\", metadata={\"source\": \"I4\"}),\n",
    "    Document(page_content=\"Black holes bend spacetime and store immense gravitational energy.\", metadata={\"source\": \"I5\"}),\n",
    "]"
   ]
  },
  {
   "cell_type": "code",
   "execution_count": 9,
   "id": "bd0cf320",
   "metadata": {},
   "outputs": [],
   "source": [
    "store = FAISS.from_documents(\n",
    "    documents = all_docs,\n",
    "    embedding = OpenAIEmbeddings(),\n",
    "    )\n"
   ]
  },
  {
   "cell_type": "code",
   "execution_count": 10,
   "id": "2927bd47",
   "metadata": {},
   "outputs": [],
   "source": [
    "similarity_retriever = store.as_retriever(search_kwargs={\"k\": 5, \"search_type\": \"similarity\"})"
   ]
  },
  {
   "cell_type": "code",
   "execution_count": 12,
   "id": "ee590827",
   "metadata": {},
   "outputs": [],
   "source": [
    "multi_query_retriever = MultiQueryRetriever.from_llm(\n",
    "    retriever=similarity_retriever,\n",
    "    llm=ChatOpenAI(),\n",
    ")\n"
   ]
  },
  {
   "cell_type": "code",
   "execution_count": 13,
   "id": "41a95276",
   "metadata": {},
   "outputs": [],
   "source": [
    "query  = \"How to improve energy levels and maintain balance?\"\n"
   ]
  },
  {
   "cell_type": "code",
   "execution_count": 15,
   "id": "de860ab3",
   "metadata": {},
   "outputs": [],
   "source": [
    "similarity_ret_results = similarity_retriever.invoke(query)\n",
    "multi_query_ret_results = multi_query_retriever.invoke(query)"
   ]
  },
  {
   "cell_type": "code",
   "execution_count": 18,
   "id": "05fc2da6",
   "metadata": {},
   "outputs": [
    {
     "name": "stdout",
     "output_type": "stream",
     "text": [
      "Result 1:\n",
      "Page Content: Drinking sufficient water throughout the day helps maintain metabolism and energy.\n",
      "Metadata: {'source': 'H5'}\n",
      "------------------------------------------------------\n",
      "Result 2:\n",
      "Page Content: Mindfulness and controlled breathing lower cortisol and improve mental clarity.\n",
      "Metadata: {'source': 'H4'}\n",
      "------------------------------------------------------\n",
      "Result 3:\n",
      "Page Content: Regular walking boosts heart health and can reduce symptoms of depression.\n",
      "Metadata: {'source': 'H1'}\n",
      "------------------------------------------------------\n",
      "Result 4:\n",
      "Page Content: Deep sleep is crucial for cellular repair and emotional regulation.\n",
      "Metadata: {'source': 'H3'}\n",
      "------------------------------------------------------\n",
      "Result 5:\n",
      "Page Content: The solar energy system in modern homes helps balance electricity demand.\n",
      "Metadata: {'source': 'I1'}\n",
      "------------------------------------------------------\n"
     ]
    }
   ],
   "source": [
    "for i, result in enumerate(similarity_ret_results):\n",
    "    print(f\"Result {i+1}:\")\n",
    "    print(f\"Page Content: {result.page_content}\")\n",
    "    print(f\"Metadata: {result.metadata}\")\n",
    "    print(\"------------------------------------------------------\")\n"
   ]
  },
  {
   "cell_type": "code",
   "execution_count": 19,
   "id": "81c393fd",
   "metadata": {},
   "outputs": [
    {
     "name": "stdout",
     "output_type": "stream",
     "text": [
      "Result 1:\n",
      "Page Content: Drinking sufficient water throughout the day helps maintain metabolism and energy.\n",
      "Metadata: {'source': 'H5'}\n",
      "\n",
      "Result 2:\n",
      "Page Content: The solar energy system in modern homes helps balance electricity demand.\n",
      "Metadata: {'source': 'I1'}\n",
      "\n",
      "Result 3:\n",
      "Page Content: Deep sleep is crucial for cellular repair and emotional regulation.\n",
      "Metadata: {'source': 'H3'}\n",
      "\n",
      "Result 4:\n",
      "Page Content: Mindfulness and controlled breathing lower cortisol and improve mental clarity.\n",
      "Metadata: {'source': 'H4'}\n",
      "\n",
      "Result 5:\n",
      "Page Content: Consuming leafy greens and fruits helps detox the body and improve longevity.\n",
      "Metadata: {'source': 'H2'}\n",
      "\n"
     ]
    }
   ],
   "source": [
    "for i, result in enumerate(multi_query_ret_results):\n",
    "    print(f\"Result {i+1}:\")\n",
    "    print(f\"Page Content: {result.page_content}\")\n",
    "    print(f\"Metadata: {result.metadata}\")\n",
    "    print()"
   ]
  },
  {
   "cell_type": "code",
   "execution_count": null,
   "id": "16502b5b",
   "metadata": {},
   "outputs": [],
   "source": []
  }
 ],
 "metadata": {
  "kernelspec": {
   "display_name": "Python 3",
   "language": "python",
   "name": "python3"
  },
  "language_info": {
   "codemirror_mode": {
    "name": "ipython",
    "version": 3
   },
   "file_extension": ".py",
   "mimetype": "text/x-python",
   "name": "python",
   "nbconvert_exporter": "python",
   "pygments_lexer": "ipython3",
   "version": "3.10.11"
  }
 },
 "nbformat": 4,
 "nbformat_minor": 5
}
