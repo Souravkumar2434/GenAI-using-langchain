{
 "cells": [
  {
   "cell_type": "code",
   "execution_count": 21,
   "id": "db314c34",
   "metadata": {},
   "outputs": [
    {
     "name": "stdout",
     "output_type": "stream",
     "text": [
      "Note: you may need to restart the kernel to use updated packages.Requirement already satisfied: faiss-cpu in c:\\004_genai\\.venv\\lib\\site-packages (1.11.0)\n",
      "Requirement already satisfied: numpy<3.0,>=1.25.0 in c:\\004_genai\\.venv\\lib\\site-packages (from faiss-cpu) (2.2.5)\n",
      "Requirement already satisfied: packaging in c:\\004_genai\\.venv\\lib\\site-packages (from faiss-cpu) (24.2)\n",
      "\n"
     ]
    },
    {
     "name": "stderr",
     "output_type": "stream",
     "text": [
      "\n",
      "[notice] A new release of pip is available: 23.0.1 -> 25.1.1\n",
      "[notice] To update, run: c:\\004_GenAI\\.venv\\Scripts\\python.exe -m pip install --upgrade pip\n"
     ]
    }
   ],
   "source": [
    "pip install faiss-cpu"
   ]
  },
  {
   "cell_type": "code",
   "execution_count": 22,
   "id": "0634b94c",
   "metadata": {},
   "outputs": [
    {
     "data": {
      "text/plain": [
       "True"
      ]
     },
     "execution_count": 22,
     "metadata": {},
     "output_type": "execute_result"
    }
   ],
   "source": [
    "from langchain_openai.embeddings import OpenAIEmbeddings\n",
    "from langchain.schema import Document\n",
    "from langchain.vectorstores import FAISS\n",
    "from dotenv import load_dotenv\n",
    "\n",
    "load_dotenv()"
   ]
  },
  {
   "cell_type": "code",
   "execution_count": 23,
   "id": "32fc2727",
   "metadata": {},
   "outputs": [],
   "source": [
    "doc1 = Document(\n",
    "    page_content=\"Virat Kohli's aggressive batting, consistent performance, and leadership have made him one of India's greatest modern cricket captains.\",\n",
    "    metadata={\"source\": \"Virat Kohli\"}\n",
    ")\n",
    "\n",
    "doc2 = Document(\n",
    "    page_content=\"Sachin Tendulkar, known as the 'Little Master', holds the record for the most runs in international cricket and is widely regarded as one of the greatest batsmen of all time.\",\n",
    "    metadata={\"source\": \"Sachin Tendulkar\"}\n",
    ")\n",
    "\n",
    "doc3 = Document(\n",
    "    page_content = \"Priyanka Chopra, Miss World 2000, transitioned from Bollywood to Hollywood, becoming a global star and successful producer and philanthropist.\",\n",
    "    metadata={\"source\": \"Priyanka Chopra\"}\n",
    ")\n",
    "\n",
    "doc4 = Document(\n",
    "    page_content= \"Narendra Modi, India’s Prime Minister, is known for his strong leadership, economic reforms, digital initiatives, and global diplomatic presence.\",\n",
    "    metadata={\"source\": \"Narendra Modi\"}\n",
    ")\n",
    "\n",
    "doc5 = Document(\n",
    "    page_content=\"Ratan Tata’s visionary business leadership, philanthropy, and integrity have made him one of the most respected industrialists in India.\",\n",
    "    metadata={\"source\": \"Ratan Tata\"}\n",
    ")"
   ]
  },
  {
   "cell_type": "code",
   "execution_count": 24,
   "id": "51ddabb8",
   "metadata": {},
   "outputs": [],
   "source": [
    "docs = [doc1, doc2, doc3, doc4, doc5]"
   ]
  },
  {
   "cell_type": "code",
   "execution_count": 25,
   "id": "9a424fa6",
   "metadata": {},
   "outputs": [],
   "source": [
    "store = FAISS.from_documents(\n",
    "    documents=docs,\n",
    "    embedding=OpenAIEmbeddings()\n",
    ")"
   ]
  },
  {
   "cell_type": "code",
   "execution_count": 35,
   "id": "1ad196d0",
   "metadata": {},
   "outputs": [],
   "source": [
    "retriver = store.as_retriever(search_type=\"mmr\", search_kwargs={\"k\": 2, \"lambda_mult\": 0.5})\n",
    "query = \"Who is the most famous celebrity in India?\""
   ]
  },
  {
   "cell_type": "code",
   "execution_count": 36,
   "id": "73d84d9c",
   "metadata": {},
   "outputs": [],
   "source": [
    "results = retriver.invoke(query)"
   ]
  },
  {
   "cell_type": "code",
   "execution_count": 37,
   "id": "722cb918",
   "metadata": {},
   "outputs": [
    {
     "name": "stdout",
     "output_type": "stream",
     "text": [
      "Result 1:\n",
      "Page Content: Priyanka Chopra, Miss World 2000, transitioned from Bollywood to Hollywood, becoming a global star and successful producer and philanthropist.\n",
      "Metadata: {'source': 'Priyanka Chopra'}\n",
      "\n",
      "Result 2:\n",
      "Page Content: Virat Kohli's aggressive batting, consistent performance, and leadership have made him one of India's greatest modern cricket captains.\n",
      "Metadata: {'source': 'Virat Kohli'}\n",
      "\n"
     ]
    }
   ],
   "source": [
    "for i, doc in enumerate(results):\n",
    "    print(f\"Result {i+1}:\")\n",
    "    print(f\"Page Content: {doc.page_content}\")\n",
    "    print(f\"Metadata: {doc.metadata}\")\n",
    "    print()"
   ]
  },
  {
   "cell_type": "code",
   "execution_count": null,
   "id": "314daadf",
   "metadata": {},
   "outputs": [],
   "source": []
  }
 ],
 "metadata": {
  "kernelspec": {
   "display_name": ".venv",
   "language": "python",
   "name": "python3"
  },
  "language_info": {
   "codemirror_mode": {
    "name": "ipython",
    "version": 3
   },
   "file_extension": ".py",
   "mimetype": "text/x-python",
   "name": "python",
   "nbconvert_exporter": "python",
   "pygments_lexer": "ipython3",
   "version": "3.10.11"
  }
 },
 "nbformat": 4,
 "nbformat_minor": 5
}
