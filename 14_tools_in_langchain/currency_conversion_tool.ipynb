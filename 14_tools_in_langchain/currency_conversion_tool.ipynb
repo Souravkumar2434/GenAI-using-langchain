{
 "cells": [
  {
   "cell_type": "code",
   "execution_count": 33,
   "id": "13d3926a",
   "metadata": {},
   "outputs": [],
   "source": [
    "from langchain_openai import ChatOpenAI\n",
    "from langchain_core.tools import InjectedToolArg\n",
    "from langchain_core.tools import tool\n",
    "from dotenv import load_dotenv\n",
    "import requests\n"
   ]
  },
  {
   "cell_type": "code",
   "execution_count": 34,
   "id": "2a070055",
   "metadata": {},
   "outputs": [
    {
     "data": {
      "text/plain": [
       "True"
      ]
     },
     "execution_count": 34,
     "metadata": {},
     "output_type": "execute_result"
    }
   ],
   "source": [
    "load_dotenv()"
   ]
  },
  {
   "cell_type": "code",
   "execution_count": 35,
   "id": "938a8bcf",
   "metadata": {},
   "outputs": [],
   "source": [
    "api_key = \"91b32d2b034022793a835278\"\n",
    "import json\n",
    "from typing import Annotated"
   ]
  },
  {
   "cell_type": "markdown",
   "id": "217ee3a5",
   "metadata": {},
   "source": [
    "## Defining the tools for currency conversion and latest conversion factor"
   ]
  },
  {
   "cell_type": "code",
   "execution_count": 36,
   "id": "cc92533d",
   "metadata": {},
   "outputs": [],
   "source": [
    "@tool\n",
    "def get_conversion_factor(from_currency: str, to_currency: str) -> str:\n",
    "    \"\"\"\n",
    "    Get the conversion factor between two currencies.\n",
    "    \"\"\"\n",
    "    url = f\"https://v6.exchangerate-api.com/v6/91b32d2b034022793a835278/pair/{from_currency}/{to_currency}\"\n",
    "    response = requests.get(url)\n",
    "    \n",
    "    if response.status_code != 200:\n",
    "        raise ValueError(f\"Error fetching conversion rate: {response.text}\")\n",
    "    \n",
    "    data = json.loads(response.text)\n",
    "    return data['conversion_rate']\n",
    "\n",
    "@tool\n",
    "def convert_currency(amount: int, coversion_factor: Annotated[float, InjectedToolArg]) -> float:\n",
    "    \"\"\"\n",
    "    Convert an amount of money using the provided conversion factor.\n",
    "    \"\"\"\n",
    "    return amount * float(coversion_factor)"
   ]
  },
  {
   "cell_type": "code",
   "execution_count": 37,
   "id": "8b590ef0",
   "metadata": {},
   "outputs": [
    {
     "data": {
      "text/plain": [
       "85.4333"
      ]
     },
     "execution_count": 37,
     "metadata": {},
     "output_type": "execute_result"
    }
   ],
   "source": [
    "get_conversion_factor.invoke({'from_currency': 'USD', 'to_currency': 'INR'})"
   ]
  },
  {
   "cell_type": "code",
   "execution_count": 38,
   "id": "de70e1e4",
   "metadata": {},
   "outputs": [
    {
     "data": {
      "text/plain": [
       "8250.0"
      ]
     },
     "execution_count": 38,
     "metadata": {},
     "output_type": "execute_result"
    }
   ],
   "source": [
    "convert_currency.invoke({'amount': 100, 'coversion_factor': 82.5})"
   ]
  },
  {
   "cell_type": "markdown",
   "id": "06ff52b4",
   "metadata": {},
   "source": [
    "## Initialize the LLM and messages"
   ]
  },
  {
   "cell_type": "code",
   "execution_count": 39,
   "id": "77cbff1b",
   "metadata": {},
   "outputs": [],
   "source": [
    "llm = ChatOpenAI()"
   ]
  },
  {
   "cell_type": "markdown",
   "id": "acd4690d",
   "metadata": {},
   "source": [
    "## Bind the LLM with tools"
   ]
  },
  {
   "cell_type": "code",
   "execution_count": 40,
   "id": "c17f04f0",
   "metadata": {},
   "outputs": [],
   "source": [
    "llm_with_tools = llm.bind_tools([get_conversion_factor, convert_currency])"
   ]
  },
  {
   "cell_type": "code",
   "execution_count": 41,
   "id": "9021d05d",
   "metadata": {},
   "outputs": [],
   "source": [
    "from langchain_core.messages import HumanMessage\n",
    "messages = []"
   ]
  },
  {
   "cell_type": "code",
   "execution_count": 42,
   "id": "fa34773d",
   "metadata": {},
   "outputs": [],
   "source": [
    "messages.append(HumanMessage(\n",
    "    content=\"How much is 100 USD in INR and what is the conversion rate?\"\n",
    "))\n",
    "\n",
    "ai_message = llm_with_tools.invoke(messages)\n"
   ]
  },
  {
   "cell_type": "code",
   "execution_count": 43,
   "id": "180ab9c6",
   "metadata": {},
   "outputs": [],
   "source": [
    "messages.append(ai_message)"
   ]
  },
  {
   "cell_type": "code",
   "execution_count": 44,
   "id": "ebc7b1b2",
   "metadata": {},
   "outputs": [
    {
     "data": {
      "text/plain": [
       "[HumanMessage(content='How much is 100 USD in INR and what is the conversion rate?', additional_kwargs={}, response_metadata={}),\n",
       " AIMessage(content='', additional_kwargs={'tool_calls': [{'id': 'call_38XVHJqJBjwmxpMCHitS2cd3', 'function': {'arguments': '{\"from_currency\": \"USD\", \"to_currency\": \"INR\"}', 'name': 'get_conversion_factor'}, 'type': 'function'}, {'id': 'call_ZZuGEmAW3iD3hZJ18L1nRhrQ', 'function': {'arguments': '{\"amount\": 100}', 'name': 'convert_currency'}, 'type': 'function'}], 'refusal': None}, response_metadata={'token_usage': {'completion_tokens': 51, 'prompt_tokens': 95, 'total_tokens': 146, 'completion_tokens_details': {'accepted_prediction_tokens': 0, 'audio_tokens': 0, 'reasoning_tokens': 0, 'rejected_prediction_tokens': 0}, 'prompt_tokens_details': {'audio_tokens': 0, 'cached_tokens': 0}}, 'model_name': 'gpt-3.5-turbo-0125', 'system_fingerprint': None, 'id': 'chatcmpl-BcX9Q7hYK4af7COVFHlz3jMiAQb9t', 'service_tier': 'default', 'finish_reason': 'tool_calls', 'logprobs': None}, id='run--4e4b4069-4ffe-4c4e-8618-d5f1e5afa845-0', tool_calls=[{'name': 'get_conversion_factor', 'args': {'from_currency': 'USD', 'to_currency': 'INR'}, 'id': 'call_38XVHJqJBjwmxpMCHitS2cd3', 'type': 'tool_call'}, {'name': 'convert_currency', 'args': {'amount': 100}, 'id': 'call_ZZuGEmAW3iD3hZJ18L1nRhrQ', 'type': 'tool_call'}], usage_metadata={'input_tokens': 95, 'output_tokens': 51, 'total_tokens': 146, 'input_token_details': {'audio': 0, 'cache_read': 0}, 'output_token_details': {'audio': 0, 'reasoning': 0}})]"
      ]
     },
     "execution_count": 44,
     "metadata": {},
     "output_type": "execute_result"
    }
   ],
   "source": [
    "messages"
   ]
  },
  {
   "cell_type": "code",
   "execution_count": 45,
   "id": "6482e998",
   "metadata": {},
   "outputs": [
    {
     "data": {
      "text/plain": [
       "[{'name': 'get_conversion_factor',\n",
       "  'args': {'from_currency': 'USD', 'to_currency': 'INR'},\n",
       "  'id': 'call_38XVHJqJBjwmxpMCHitS2cd3',\n",
       "  'type': 'tool_call'},\n",
       " {'name': 'convert_currency',\n",
       "  'args': {'amount': 100},\n",
       "  'id': 'call_ZZuGEmAW3iD3hZJ18L1nRhrQ',\n",
       "  'type': 'tool_call'}]"
      ]
     },
     "execution_count": 45,
     "metadata": {},
     "output_type": "execute_result"
    }
   ],
   "source": [
    "ai_message.tool_calls"
   ]
  },
  {
   "cell_type": "code",
   "execution_count": 53,
   "id": "8b832bf2",
   "metadata": {},
   "outputs": [
    {
     "name": "stdout",
     "output_type": "stream",
     "text": [
      "Conversion factor: content='85.4333' name='get_conversion_factor' tool_call_id='call_38XVHJqJBjwmxpMCHitS2cd3'\n",
      "Converted amount: content='8543.33' name='convert_currency' tool_call_id='call_ZZuGEmAW3iD3hZJ18L1nRhrQ'\n"
     ]
    }
   ],
   "source": [
    "for tool_call in ai_message.tool_calls:\n",
    "    if tool_call['name'] == \"get_conversion_factor\":\n",
    "        conversion_factor = get_conversion_factor.invoke(tool_call)\n",
    "        print(f\"Conversion factor: {conversion_factor}\")\n",
    "        messages.append(conversion_factor)\n",
    "    if tool_call['name'] == \"convert_currency\":\n",
    "        tool_call['args']['coversion_factor'] = conversion_factor.content\n",
    "        converted_amount = convert_currency.invoke(tool_call)\n",
    "        print(f\"Converted amount: {converted_amount}\")\n",
    "        messages.append(converted_amount)"
   ]
  },
  {
   "cell_type": "code",
   "execution_count": 55,
   "id": "cfc975db",
   "metadata": {},
   "outputs": [
    {
     "data": {
      "text/plain": [
       "'100 USD is equivalent to 8543.33 INR and the conversion rate is 1 USD to 85.4333 INR.'"
      ]
     },
     "execution_count": 55,
     "metadata": {},
     "output_type": "execute_result"
    }
   ],
   "source": [
    "llm_with_tools.invoke(messages).content"
   ]
  },
  {
   "cell_type": "code",
   "execution_count": null,
   "id": "0de52528",
   "metadata": {},
   "outputs": [],
   "source": []
  }
 ],
 "metadata": {
  "kernelspec": {
   "display_name": "Python 3",
   "language": "python",
   "name": "python3"
  },
  "language_info": {
   "codemirror_mode": {
    "name": "ipython",
    "version": 3
   },
   "file_extension": ".py",
   "mimetype": "text/x-python",
   "name": "python",
   "nbconvert_exporter": "python",
   "pygments_lexer": "ipython3",
   "version": "3.10.11"
  }
 },
 "nbformat": 4,
 "nbformat_minor": 5
}
